{
 "cells": [
  {
   "cell_type": "code",
   "execution_count": 9,
   "id": "7817b308-b263-4fda-a0af-cc12c64ec5c6",
   "metadata": {},
   "outputs": [],
   "source": [
    "import cv2\n",
    "import numpy as np\n",
    "from utils.opv import OpvModel\n",
    "facedetectModel = OpvModel(\"face-detection-adas-0001\",device=\"CPU\", fp=\"FP32\")"
   ]
  },
  {
   "cell_type": "code",
   "execution_count": 10,
   "id": "4380b4af-2e8c-400a-acf7-0b726afa06c6",
   "metadata": {},
   "outputs": [],
   "source": [
    "# \"images\" 폴더에서 'friends.jpeg' 이미지 파일을 불러와 이미지 사이즈를 '1200, 710'으로 줄입니다.\n",
    "# 이미지에서 얼굴 있는 부분을 예측하여 변수 'predictions'에 저장합니다.\n",
    "\n",
    "friends = cv2.imread(\"images/dog.jpeg\")\n",
    "\n",
    "friends = cv2.resize(friends,(1200, 710))\n",
    "predictions = facedetectModel.Predict(friends)"
   ]
  },
  {
   "cell_type": "code",
   "execution_count": 11,
   "id": "3532323d-055d-41ac-9895-677b4d00b8e0",
   "metadata": {},
   "outputs": [
    {
     "data": {
      "text/plain": [
       "(1, 1, 200, 7)"
      ]
     },
     "execution_count": 11,
     "metadata": {},
     "output_type": "execute_result"
    }
   ],
   "source": [
    "predictions.shape"
   ]
  },
  {
   "cell_type": "code",
   "execution_count": 12,
   "id": "35ec88d6-f38e-44c2-988e-441a914115e7",
   "metadata": {},
   "outputs": [],
   "source": [
    "# 이미지에서 얼굴로 예측(예측확률 0%보다 큰)된 모든 주변에 경계 상자를 그리는 코드를 완성합니다.\n",
    "\n",
    "def DrawBoundingBoxes(predictions, image, conf=0):\n",
    "    canvas = image.copy()\n",
    "    predictions_1 = predictions[0][0]\n",
    "    confidence = predictions_1[:,2]\n",
    "    \n",
    "    topresults = predictions_1[(confidence > conf)]\n",
    "    (h, w) = canvas.shape[:2]\n",
    "    for detection in topresults:\n",
    "        box = detection[3:7] * np.array([w, h, w, h])\n",
    "        (xmin, ymin, xmax, ymax) = box.astype(\"int\")\n",
    "        \n",
    "        cv2.rectangle(canvas, (xmin, ymin), (xmax, ymax), (0, 0, 255), 4)\n",
    "        cv2.putText(canvas, str(round(detection[2]*100,1))+\"%\", (xmin, ymin),\n",
    "            cv2.FONT_HERSHEY_SIMPLEX, 0.6, (255, 0,0), 2)\n",
    "    cv2.putText(canvas, str(len(topresults))+\" face(s) detected\", (50,50),\n",
    "            cv2.FONT_HERSHEY_SIMPLEX, 0.6, (255, 0,0), 2)\n",
    "    return canvas\n",
    "\n",
    "cv2.imshow(\"dog\", DrawBoundingBoxes(predictions, friends))\n",
    "cv2.waitKey(0)\n",
    "cv2.destroyAllWindows()"
   ]
  },
  {
   "cell_type": "code",
   "execution_count": 13,
   "id": "42f4ba71-afd1-45de-92eb-c1cc20bf9877",
   "metadata": {},
   "outputs": [],
   "source": [
    "# 이미지에서 얼굴로 예측(예측 확률 50% 보다 큰)된 모든 주변에 경계 상자를 그리는 코드를 완성\n",
    "\n",
    "def DrawBoundingBoxes(predictions, image, conf = 0.5):\n",
    "    canvas = image.copy()\n",
    "    predictions_1 = predictions[0][0]\n",
    "    confidence = predictions_1[:,2]\n",
    "    \n",
    "    topresults = predictions_1[(confidence>conf)]\n",
    "    (h,w) = canvas.shape[:2]\n",
    "    for detection in topresults:\n",
    "        box = detection[3:7] * np.array([w, h, w, h])\n",
    "        (xmin, ymin, xmax, ymax) = box.astype(\"int\")\n",
    "        \n",
    "        cv2.rectangle(canvas, (xmin, ymin), (xmax, ymax), (0, 0, 255), 4)\n",
    "        cv2.putText(canvas, str(round(detection[2]*100,1))+\"%\", (xmin, ymin),\n",
    "            cv2.FONT_HERSHEY_SIMPLEX, 0.6, (255, 0,0), 2)\n",
    "    cv2.putText(canvas, str(len(topresults))+\" face(s) detected\", (50,50),\n",
    "            cv2.FONT_HERSHEY_SIMPLEX, 0.6, (255, 0,0), 2)\n",
    "    return canvas\n",
    "\n",
    "cv2.imshow(\"dog\",DrawBoundingBoxes(predictions,friends))\n",
    "cv2.waitKey(0)\n",
    "cv2.destroyAllWindows()"
   ]
  },
  {
   "cell_type": "code",
   "execution_count": 15,
   "id": "8310549e-b25d-4239-afd8-a3ce1f9b2a8d",
   "metadata": {},
   "outputs": [],
   "source": [
    "# 웹캠을 이용하여 실시간 영상에서 얼굴은 인식하고\n",
    "# 얼굴 주변에 상자의 색상과 두께, 글꼴의 크기와 유형을 변경하는 코드를 완성합니다.\n",
    "\n",
    "from utils.opv import OpvModel\n",
    "import cv2\n",
    "import numpy as np\n",
    "\n",
    "facedetectModel = OpvModel(\"face-detection-adas-0001\", \"CPU\", \"FP32\")\n",
    "camera = cv2.VideoCapture(0)\n",
    "\n",
    "def DrawBoundingBoxes(predictions, image, conf=0.5):\n",
    "    canvas = image.copy()\n",
    "    predictions = predictions[0][0]\n",
    "    confidence = predictions[:,2]\n",
    "    \n",
    "    topresults = predictions[(confidence>conf)]\n",
    "    (h,w) = canvas.shape[:2]\n",
    "    for detection in topresults:\n",
    "        box = detection[3:7] * np.array([w, h, w, h])\n",
    "        (xmin, ymin, xmax, ymax) = box.astype(\"int\")\n",
    "        \n",
    "        cv2.rectangle(canvas, (xmin, ymin), (xmax, ymax), (0, 0, 255), 4)\n",
    "        cv2.putText(canvas, str(round(detection[2]*100,1))+\"%\", (xmin, ymin),\n",
    "            cv2.FONT_HERSHEY_SIMPLEX, 0.6, (255, 0,0), 2)\n",
    "    cv2.putText(canvas, str(len(topresults))+\" face(s) detected\", (50,50),\n",
    "            cv2.FONT_HERSHEY_SIMPLEX, 0.6, (255, 0,0), 2)\n",
    "    return canvas\n",
    "\n",
    "while(True):\n",
    "    ret, frame = camera.read() # Capture frame by frame\n",
    "    if ret == False:\n",
    "        break\n",
    "    predictions = facedetectModel.Predict(frame)\n",
    "    \n",
    "    try:\n",
    "        cv2.imshow('Press Spacebar to Exit', DrawBoundingBoxes(predictions, frame))\n",
    "    except Exception as e:\n",
    "        print(e)\n",
    "        break\n",
    "        \n",
    "    if cv2.waitKey(1) & 0xFF == ord(' '): # Stop if spacebar is detected\n",
    "        break\n",
    "        \n",
    "camera.release() # Cleanup after spacebar is detected.\n",
    "cv2.destroyAllWindows()"
   ]
  },
  {
   "cell_type": "code",
   "execution_count": null,
   "id": "81491772-93a3-420c-a376-50a740771bf0",
   "metadata": {},
   "outputs": [],
   "source": []
  }
 ],
 "metadata": {
  "kernelspec": {
   "display_name": "Python 3 (ipykernel)",
   "language": "python",
   "name": "python3"
  },
  "language_info": {
   "codemirror_mode": {
    "name": "ipython",
    "version": 3
   },
   "file_extension": ".py",
   "mimetype": "text/x-python",
   "name": "python",
   "nbconvert_exporter": "python",
   "pygments_lexer": "ipython3",
   "version": "3.8.13"
  }
 },
 "nbformat": 4,
 "nbformat_minor": 5
}
